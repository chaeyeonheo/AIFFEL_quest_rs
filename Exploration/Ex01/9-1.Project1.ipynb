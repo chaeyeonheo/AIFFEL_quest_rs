{
 "cells": [
  {
   "cell_type": "code",
   "execution_count": 2,
   "id": "b5cc6bd2",
   "metadata": {},
   "outputs": [
    {
     "name": "stdout",
     "output_type": "stream",
     "text": [
      "특성(X) 데이터 shape: (442, 10)\n",
      "타겟(y) 데이터 shape: (442,)\n",
      "특성 이름: ['age', 'sex', 'bmi', 'bp', 's1', 's2', 's3', 's4', 's5', 's6']\n"
     ]
    }
   ],
   "source": [
    "# 필요한 라이브러리 임포트\n",
    "import numpy as np\n",
    "import matplotlib.pyplot as plt\n",
    "from sklearn.datasets import load_diabetes\n",
    "from sklearn.model_selection import train_test_split\n",
    "import pandas as pd\n",
    "\n",
    "# (1) 데이터 가져오기\n",
    "# sklearn.datasets의 load_diabetes 함수를 사용하여 당뇨병 데이터셋을 불러옵니다.\n",
    "diabetes = load_diabetes()\n",
    "\n",
    "# 특성 데이터를 df_X에 저장\n",
    "df_X = diabetes.data\n",
    "\n",
    "# 타겟 데이터를 df_y에 저장\n",
    "df_y = diabetes.target\n",
    "\n",
    "print(f\"특성(X) 데이터 shape: {df_X.shape}\")\n",
    "print(f\"타겟(y) 데이터 shape: {df_y.shape}\")\n",
    "\n",
    "# 데이터 살펴보기\n",
    "# 데이터의 특성 이름 확인\n",
    "print(f\"특성 이름: {diabetes.feature_names}\")"
   ]
  },
  {
   "cell_type": "code",
   "execution_count": 3,
   "id": "5ed32fed",
   "metadata": {},
   "outputs": [
    {
     "name": "stdout",
     "output_type": "stream",
     "text": [
      "X_train shape: (353, 10), X_test shape: (89, 10)\n",
      "y_train shape: (353,), y_test shape: (89,)\n"
     ]
    }
   ],
   "source": [
    "# 데이터프레임으로 변환하여 살펴보기\n",
    "df = pd.DataFrame(df_X, columns=diabetes.feature_names)\n",
    "df['target'] = df_y\n",
    "df.head(3)\n",
    "\n",
    "# (2) 모델에 입력할 데이터 X 준비하기\n",
    "# df_X를 numpy array로 변환\n",
    "X = np.array(df_X)\n",
    "\n",
    "# (3) 모델에 예측할 데이터 y 준비하기\n",
    "# df_y를 numpy array로 변환\n",
    "y = np.array(df_y)\n",
    "\n",
    "# (4) train 데이터와 test 데이터로 분리하기\n",
    "# 데이터를 train과 test로 분리 (80% train, 20% test)\n",
    "X_train, X_test, y_train, y_test = train_test_split(X, y, test_size=0.2, random_state=42)\n",
    "\n",
    "print(f\"X_train shape: {X_train.shape}, X_test shape: {X_test.shape}\")\n",
    "print(f\"y_train shape: {y_train.shape}, y_test shape: {y_test.shape}\")"
   ]
  },
  {
   "cell_type": "code",
   "execution_count": 4,
   "id": "c1d64af9",
   "metadata": {},
   "outputs": [],
   "source": [
    "# (5) 모델 준비하기\n",
    "# 모델 파라미터 초기화\n",
    "# 입력 데이터 X의 특성 개수에 맞는 가중치 W 초기화 (10개 특성이므로 10차원 벡터)\n",
    "W = np.zeros(X_train.shape[1])\n",
    "# 편향 b 초기화\n",
    "b = 0\n",
    "\n",
    "# 선형 회귀 모델 함수 정의\n",
    "def model(X, W, b):\n",
    "    \"\"\"\n",
    "    선형 회귀 모델 함수: y = X * W + b\n",
    "    \n",
    "    Parameters:\n",
    "    X (np.array): 입력 데이터\n",
    "    W (np.array): 가중치\n",
    "    b (float): 편향\n",
    "    \n",
    "    Returns:\n",
    "    np.array: 예측값\n",
    "    \"\"\"\n",
    "    return np.dot(X, W) + b\n",
    "\n",
    "# (6) 손실함수 loss 정의하기\n",
    "# MSE(Mean Squared Error) 손실 함수 정의\n",
    "def loss(X, y, W, b):\n",
    "    \"\"\"\n",
    "    MSE 손실 함수: (1/n) * Σ(y_pred - y_true)²\n",
    "    \n",
    "    Parameters:\n",
    "    X (np.array): 입력 데이터\n",
    "    y (np.array): 실제 타겟 값\n",
    "    W (np.array): 가중치\n",
    "    b (float): 편향\n",
    "    \n",
    "    Returns:\n",
    "    float: 평균 제곱 오차\n",
    "    \"\"\"\n",
    "    n = len(y)  # 데이터 개수\n",
    "    y_pred = model(X, W, b)  # 예측값\n",
    "    mse = np.sum((y_pred - y) ** 2) / n  # 평균 제곱 오차 계산\n",
    "    return mse\n"
   ]
  },
  {
   "cell_type": "code",
   "execution_count": 23,
   "id": "e1aa3045",
   "metadata": {},
   "outputs": [],
   "source": [
    "# (7) 기울기를 구하는 gradient 함수 구현하기\n",
    "# 기울기(Gradient) 계산 함수 구현\n",
    "def gradient(X, y, W, b):\n",
    "    \"\"\"\n",
    "    MSE 손실 함수에 대한 가중치(W)와 편향(b)의 기울기 계산\n",
    "    \n",
    "    Parameters:\n",
    "    X (np.array): 입력 데이터\n",
    "    y (np.array): 실제 타겟 값\n",
    "    W (np.array): 가중치\n",
    "    b (float): 편향\n",
    "    \n",
    "    Returns:\n",
    "    tuple: (dW, db) - 가중치와 편향에 대한 기울기\n",
    "    \"\"\"\n",
    "    n = len(y)  # 데이터 개수\n",
    "    y_pred = model(X, W, b)  # 예측값\n",
    "    \n",
    "    # W에 대한 기울기 계산: (2/n) * X^T * (y_pred - y)\n",
    "    dW = (2 / n) * np.dot(X.T, (y_pred - y))\n",
    "    \n",
    "    # b에 대한 기울기 계산: (2/n) * sum(y_pred - y)\n",
    "    db = (2 / n) * np.sum(y_pred - y)\n",
    "    \n",
    "    return dW, db\n",
    "\n",
    "# (8) 하이퍼 파라미터인 학습률 설정하기\n",
    "# 학습률(Learning Rate) 설정\n",
    "learning_rate = 0.05\n",
    "\n",
    "# 학습 에포크(반복 횟수) 설정\n",
    "epochs = 10000"
   ]
  },
  {
   "cell_type": "code",
   "execution_count": 24,
   "id": "a486b33f",
   "metadata": {},
   "outputs": [
    {
     "name": "stdout",
     "output_type": "stream",
     "text": [
      "Epoch 0, Loss: 3840.1\n",
      "Epoch 100, Loss: 3770.2\n",
      "Epoch 200, Loss: 3707.9\n",
      "Epoch 300, Loss: 3652.0\n",
      "Epoch 400, Loss: 3601.7\n",
      "Epoch 500, Loss: 3556.3\n",
      "Epoch 600, Loss: 3515.1\n",
      "Epoch 700, Loss: 3477.6\n",
      "Epoch 800, Loss: 3443.3\n",
      "Epoch 900, Loss: 3411.8\n",
      "Epoch 1000, Loss: 3382.9\n",
      "Epoch 1100, Loss: 3356.1\n",
      "Epoch 1200, Loss: 3331.4\n",
      "Epoch 1300, Loss: 3308.4\n",
      "Epoch 1400, Loss: 3287.0\n",
      "Epoch 1500, Loss: 3267.1\n",
      "Epoch 1600, Loss: 3248.4\n",
      "Epoch 1700, Loss: 3231.0\n",
      "Epoch 1800, Loss: 3214.6\n",
      "Epoch 1900, Loss: 3199.2\n",
      "Epoch 2000, Loss: 3184.7\n",
      "Epoch 2100, Loss: 3171.0\n",
      "Epoch 2200, Loss: 3158.1\n",
      "Epoch 2300, Loss: 3145.9\n",
      "Epoch 2400, Loss: 3134.4\n",
      "Epoch 2500, Loss: 3123.4\n",
      "Epoch 2600, Loss: 3113.1\n",
      "Epoch 2700, Loss: 3103.3\n",
      "Epoch 2800, Loss: 3094.0\n",
      "Epoch 2900, Loss: 3085.1\n",
      "Epoch 3000, Loss: 3076.8\n",
      "Epoch 3100, Loss: 3068.8\n",
      "Epoch 3200, Loss: 3061.2\n",
      "Epoch 3300, Loss: 3054.0\n",
      "Epoch 3400, Loss: 3047.1\n",
      "Epoch 3500, Loss: 3040.6\n",
      "Epoch 3600, Loss: 3034.4\n",
      "Epoch 3700, Loss: 3028.5\n",
      "Epoch 3800, Loss: 3022.8\n",
      "Epoch 3900, Loss: 3017.4\n",
      "Epoch 4000, Loss: 3012.3\n",
      "Epoch 4100, Loss: 3007.4\n",
      "Epoch 4200, Loss: 3002.8\n",
      "Epoch 4300, Loss: 2998.3\n",
      "Epoch 4400, Loss: 2994.1\n",
      "Epoch 4500, Loss: 2990.1\n",
      "Epoch 4600, Loss: 2986.2\n",
      "Epoch 4700, Loss: 2982.5\n",
      "Epoch 4800, Loss: 2979.0\n",
      "Epoch 4900, Loss: 2975.6\n",
      "Epoch 5000, Loss: 2972.4\n",
      "Epoch 5100, Loss: 2969.4\n",
      "Epoch 5200, Loss: 2966.4\n",
      "Epoch 5300, Loss: 2963.6\n",
      "Epoch 5400, Loss: 2961.0\n",
      "Epoch 5500, Loss: 2958.4\n",
      "Epoch 5600, Loss: 2956.0\n",
      "Epoch 5700, Loss: 2953.6\n",
      "Epoch 5800, Loss: 2951.4\n",
      "Epoch 5900, Loss: 2949.2\n",
      "Epoch 6000, Loss: 2947.2\n",
      "Epoch 6100, Loss: 2945.2\n",
      "Epoch 6200, Loss: 2943.4\n",
      "Epoch 6300, Loss: 2941.6\n",
      "Epoch 6400, Loss: 2939.9\n",
      "Epoch 6500, Loss: 2938.2\n",
      "Epoch 6600, Loss: 2936.7\n",
      "Epoch 6700, Loss: 2935.2\n",
      "Epoch 6800, Loss: 2933.7\n",
      "Epoch 6900, Loss: 2932.3\n",
      "Epoch 7000, Loss: 2931.0\n",
      "Epoch 7100, Loss: 2929.8\n",
      "Epoch 7200, Loss: 2928.5\n",
      "Epoch 7300, Loss: 2927.4\n",
      "Epoch 7400, Loss: 2926.3\n",
      "Epoch 7500, Loss: 2925.2\n",
      "Epoch 7600, Loss: 2924.2\n",
      "Epoch 7700, Loss: 2923.2\n",
      "Epoch 7800, Loss: 2922.3\n",
      "Epoch 7900, Loss: 2921.4\n",
      "Epoch 8000, Loss: 2920.5\n",
      "Epoch 8100, Loss: 2919.7\n",
      "Epoch 8200, Loss: 2918.9\n",
      "Epoch 8300, Loss: 2918.1\n",
      "Epoch 8400, Loss: 2917.4\n",
      "Epoch 8500, Loss: 2916.7\n",
      "Epoch 8600, Loss: 2916.0\n",
      "Epoch 8700, Loss: 2915.3\n",
      "Epoch 8800, Loss: 2914.7\n",
      "Epoch 8900, Loss: 2914.1\n",
      "Epoch 9000, Loss: 2913.5\n",
      "Epoch 9100, Loss: 2913.0\n",
      "Epoch 9200, Loss: 2912.4\n",
      "Epoch 9300, Loss: 2911.9\n",
      "Epoch 9400, Loss: 2911.4\n",
      "Epoch 9500, Loss: 2910.9\n",
      "Epoch 9600, Loss: 2910.5\n",
      "Epoch 9700, Loss: 2910.1\n",
      "Epoch 9800, Loss: 2909.6\n",
      "Epoch 9900, Loss: 2909.2\n",
      "Epoch 9999, Loss: 2908.8\n",
      "\n",
      "학습된 가중치(W): [  40.78468831 -212.08303458  519.67876896  329.27571051  -76.01999934\n",
      " -123.4774855  -217.58178635  144.45153248  383.64077952  104.85812326]\n",
      "학습된 편향(b): 151.3504401456592\n"
     ]
    }
   ],
   "source": [
    "\n",
    "# (9) 모델 학습하기\n",
    "# 손실값 저장을 위한 리스트\n",
    "loss_history = []\n",
    "\n",
    "# 모델 학습 (경사 하강법)\n",
    "for epoch in range(epochs):\n",
    "    # 기울기 계산\n",
    "    dW, db = gradient(X_train, y_train, W, b)\n",
    "    \n",
    "    # 가중치와 편향 업데이트\n",
    "    W = W - learning_rate * dW\n",
    "    b = b - learning_rate * db\n",
    "    \n",
    "    # 현재 손실 계산\n",
    "    current_loss = loss(X_train, y_train, W, b)\n",
    "    loss_history.append(current_loss)\n",
    "    \n",
    "    # 학습 과정 출력 (100 에포크마다)\n",
    "    if epoch % 100 == 0 or epoch == epochs - 1:\n",
    "        print(f\"Epoch {epoch}, Loss: {current_loss:.1f}\")\n",
    "\n",
    "print(f\"\\n학습된 가중치(W): {W}\")\n",
    "print(f\"학습된 편향(b): {b}\")\n"
   ]
  },
  {
   "cell_type": "code",
   "execution_count": 25,
   "id": "a75b12e2",
   "metadata": {},
   "outputs": [
    {
     "data": {
      "image/png": "[encoded data removed]",
      "text/plain": [
       "<Figure size 720x432 with 1 Axes>"
      ]
     },
     "metadata": {
      "needs_background": "light"
     },
     "output_type": "display_data"
    }
   ],
   "source": [
    "# 손실 함수 그래프 시각화\n",
    "plt.figure(figsize=(10, 6))\n",
    "plt.plot(loss_history)\n",
    "plt.title('Loss ')\n",
    "plt.xlabel('Epoch')\n",
    "plt.ylabel('Loss')\n",
    "plt.grid(True)\n",
    "plt.show()"
   ]
  },
  {
   "cell_type": "code",
   "execution_count": 26,
   "id": "01678221",
   "metadata": {},
   "outputs": [
    {
     "name": "stdout",
     "output_type": "stream",
     "text": [
      "테스트 데이터 MSE: 2869.09\n"
     ]
    }
   ],
   "source": [
    "# (10) test 데이터에 대한 성능 확인하기\n",
    "# 테스트 데이터에 대한 예측\n",
    "y_pred_test = model(X_test, W, b)\n",
    "\n",
    "# 테스트 데이터에 대한 MSE 계산\n",
    "test_mse = loss(X_test, y_test, W, b)\n",
    "print(f\"테스트 데이터 MSE: {test_mse:.2f}\")"
   ]
  },
  {
   "cell_type": "code",
   "execution_count": 27,
   "id": "245afd61",
   "metadata": {},
   "outputs": [
    {
     "name": "stdout",
     "output_type": "stream",
     "text": [
      "테스트 데이터 R-squared: 0.4585\n"
     ]
    }
   ],
   "source": [
    "# R-squared(결정 계수) 계산 함수\n",
    "def r_squared(y_true, y_pred):\n",
    "    \"\"\"\n",
    "    R-squared(결정 계수) 계산\n",
    "    \n",
    "    Parameters:\n",
    "    y_true (np.array): 실제 타겟 값\n",
    "    y_pred (np.array): 예측 값\n",
    "    \n",
    "    Returns:\n",
    "    float: R-squared 값\n",
    "    \"\"\"\n",
    "    # 총 제곱합(SST) 계산\n",
    "    sst = np.sum((y_true - np.mean(y_true)) ** 2)\n",
    "    \n",
    "    # 잔차 제곱합(SSR) 계산\n",
    "    ssr = np.sum((y_true - y_pred) ** 2)\n",
    "    \n",
    "    # R-squared 계산\n",
    "    r2 = 1 - (ssr / sst)\n",
    "    \n",
    "    return r2\n",
    "\n",
    "# 테스트 데이터에 대한 R-squared 계산\n",
    "test_r2 = r_squared(y_test, y_pred_test)\n",
    "print(f\"테스트 데이터 R-squared: {test_r2:.4f}\")"
   ]
  },
  {
   "cell_type": "code",
   "execution_count": 32,
   "id": "70a937a1",
   "metadata": {},
   "outputs": [
    {
     "data": {
      "image/png": "[encoded data removed]",
      "text/plain": [
       "<Figure size 720x432 with 1 Axes>"
      ]
     },
     "metadata": {
      "needs_background": "light"
     },
     "output_type": "display_data"
    }
   ],
   "source": [
    "# 실제 값과 예측 값 비교\n",
    "plt.figure(figsize=(10, 6))\n",
    "plt.scatter(y_test, y_pred_test, alpha=0.7)\n",
    "plt.plot([min(y_test), max(y_test)], [min(y_test), max(y_test)], 'r--')\n",
    "plt.xlabel('actual')\n",
    "plt.ylabel('prediction')\n",
    "plt.title('actual vs prediction')\n",
    "plt.grid(True)\n",
    "plt.show()"
   ]
  },
  {
   "cell_type": "code",
   "execution_count": 29,
   "id": "f55d7f95",
   "metadata": {},
   "outputs": [
    {
     "data": {
      "image/png": "[encoded data removed]",
      "text/plain": [
       "<Figure size 864x432 with 1 Axes>"
      ]
     },
     "metadata": {
      "needs_background": "light"
     },
     "output_type": "display_data"
    }
   ],
   "source": [
    "# (11) 정답 데이터와 예측한 데이터 시각화하기\n",
    "# X 데이터의 첫 번째 특성(bmi)을 기준으로 시각화\n",
    "plt.figure(figsize=(12, 6))\n",
    "\n",
    "# Actual values (scatter plot)\n",
    "plt.scatter(X_test[:, 2], y_test, color='blue', alpha=0.7, label='Actual Values')\n",
    "\n",
    "# Predicted values (scatter plot)\n",
    "plt.scatter(X_test[:, 2], y_pred_test, color='red', alpha=0.7, label='Predicted Values')\n",
    "\n",
    "# 모델의 선형 관계를 나타내기 위한 추세선\n",
    "# BMI(X[:, 2])에 대해서만 선형 관계를 시각화\n",
    "\n",
    "# BMI 범위 설정\n",
    "bmi_range = np.linspace(min(X_test[:, 2]), max(X_test[:, 2]), 100)\n",
    "\n",
    "# 다른 특성들의 평균값으로 가정하여 예측\n",
    "X_trend = np.zeros((100, X_test.shape[1]))\n",
    "for i in range(X_test.shape[1]):\n",
    "    if i == 2:  # BMI 특성\n",
    "        X_trend[:, i] = bmi_range\n",
    "    else:\n",
    "        X_trend[:, i] = np.mean(X_test[:, i])\n",
    "\n",
    "# 추세선 예측\n",
    "y_trend = model(X_trend, W, b)\n",
    "\n",
    "# 추세선 그리기\n",
    "plt.plot(bmi_range, y_trend, 'g-', linewidth=2, label='Model Trend')\n",
    "\n",
    "plt.xlabel('BMI')\n",
    "plt.ylabel('Diabetes Progression')\n",
    "plt.title('Relationship Between BMI and Diabetes Progression')\n",
    "plt.legend()\n",
    "plt.grid(True)\n",
    "plt.show()\n"
   ]
  },
  {
   "cell_type": "code",
   "execution_count": 30,
   "id": "cc289c86",
   "metadata": {},
   "outputs": [
    {
     "data": {
      "image/png": "[encoded data removed]",
      "text/plain": [
       "<Figure size 864x432 with 1 Axes>"
      ]
     },
     "metadata": {
      "needs_background": "light"
     },
     "output_type": "display_data"
    }
   ],
   "source": [
    "# 전체 변수의 중요도(가중치) 시각화\n",
    "plt.figure(figsize=(12, 6))\n",
    "plt.bar(diabetes.feature_names, W)\n",
    "plt.xlabel('Features')\n",
    "plt.ylabel('Weights')\n",
    "plt.title('Feature Importance (Weights)')\n",
    "plt.xticks(rotation=45)\n",
    "plt.grid(True)\n",
    "plt.tight_layout()\n",
    "plt.show()"
   ]
  },
  {
   "cell_type": "code",
   "execution_count": 31,
   "id": "c0949d90",
   "metadata": {},
   "outputs": [
    {
     "name": "stdout",
     "output_type": "stream",
     "text": [
      "결론:\n",
      "1. 구현한 선형 회귀 모델이 당뇨병 데이터에 성공적으로 적용되었습니다.\n",
      "2. 테스트 데이터에 대한 MSE는 2869.09이고, R-squared는 0.4585입니다.\n",
      "3. 가중치 분석 결과, 당뇨병 진행 정도에 가장 중요한 영향을 미치는 특성은 다음과 같습니다:\n",
      "   - bmi: 519.6788\n",
      "   - s5: 383.6408\n",
      "   - bp: 329.2757\n"
     ]
    }
   ],
   "source": [
    "# 결론\n",
    "print(\"결론:\")\n",
    "print(\"1. 구현한 선형 회귀 모델이 당뇨병 데이터에 성공적으로 적용되었습니다.\")\n",
    "print(f\"2. 테스트 데이터에 대한 MSE는 {test_mse:.2f}이고, R-squared는 {test_r2:.4f}입니다.\")\n",
    "print(\"3. 가중치 분석 결과, 당뇨병 진행 정도에 가장 중요한 영향을 미치는 특성은 다음과 같습니다:\")\n",
    "\n",
    "# 가중치 절대값 기준으로 상위 3개 특성 출력\n",
    "top_features_idx = np.argsort(np.abs(W))[-3:][::-1]\n",
    "for idx in top_features_idx:\n",
    "    print(f\"   - {diabetes.feature_names[idx]}: {W[idx]:.4f}\")"
   ]
  },
  {
   "cell_type": "code",
   "execution_count": null,
   "id": "e830e1c1",
   "metadata": {},
   "outputs": [],
   "source": []
  }
 ],
 "metadata": {
  "kernelspec": {
   "display_name": "Python 3 (ipykernel)",
   "language": "python",
   "name": "python3"
  },
  "language_info": {
   "codemirror_mode": {
    "name": "ipython",
    "version": 3
   },
   "file_extension": ".py",
   "mimetype": "text/x-python",
   "name": "python",
   "nbconvert_exporter": "python",
   "pygments_lexer": "ipython3",
   "version": "3.9.7"
  }
 },
 "nbformat": 4,
 "nbformat_minor": 5
}
